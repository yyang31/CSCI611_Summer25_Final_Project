{
 "cells": [
  {
   "cell_type": "markdown",
   "id": "7d6c0c4f",
   "metadata": {},
   "source": [
    "# Project Proposal\n",
    "\n",
    "## Safety First - Hard Hat Detection\n",
    "\n",
    "### Team Member\n",
    "\n",
    "- Stanley Yang\n",
    "- Lennard Vanderspek \n",
    " \n",
    "### Description\n",
    "\n",
    "Workplace safety is very important but often overlooked. Most important way to keep workers \n",
    "safe is by wearing a hard hat. This project will utilize Convolution Neural Net and YOLO to help \n",
    "detect whether workers are wearing a hard hat or not.\n",
    "\n",
    "#### Machine Learning Topics Used:\n",
    "\n",
    "- Convolution Neural Net \n",
    "- YOLO \n",
    " \n",
    "### Expected Outcome\n",
    "\n",
    "A trained model that is able to detect whether workers are wearing a hard hat or not by \n",
    "implementing YOLO using PyTorch. We are hoping to utilize the model to bring more awareness \n",
    "to workplace safety."
   ]
  },
  {
   "cell_type": "markdown",
   "id": "c20f2620",
   "metadata": {},
   "source": [
    "---\n",
    "\n",
    "# Use CUDA if Available"
   ]
  },
  {
   "cell_type": "code",
   "execution_count": null,
   "id": "922a8ad9",
   "metadata": {},
   "outputs": [],
   "source": [
    "import torch\n",
    "\n",
    "# check if CUDA is available\n",
    "train_on_gpu = torch.cuda.is_available()\n",
    "\n",
    "if not train_on_gpu:\n",
    "    print('CUDA is not available.  Training on CPU ...')\n",
    "else:\n",
    "    print('CUDA is available!  Training on GPU ...')"
   ]
  },
  {
   "cell_type": "markdown",
   "id": "01756944",
   "metadata": {},
   "source": [
    "---\n",
    "# Load the Data"
   ]
  }
 ],
 "metadata": {
  "kernelspec": {
   "display_name": "applied-machine-learning",
   "language": "python",
   "name": "python3"
  },
  "language_info": {
   "name": "python",
   "version": "3.12.2"
  }
 },
 "nbformat": 4,
 "nbformat_minor": 5
}
